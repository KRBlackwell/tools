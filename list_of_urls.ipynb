{
  "nbformat": 4,
  "nbformat_minor": 0,
  "metadata": {
    "colab": {
      "provenance": []
    },
    "kernelspec": {
      "name": "python3",
      "display_name": "Python 3"
    },
    "language_info": {
      "name": "python"
    }
  },
  "cells": [
    {
      "cell_type": "markdown",
      "source": [
        "# Got a website?\n",
        "## Get a list of all the links\n",
        "▶ First, go to \"Website url and output file\\\n",
        "▶ site = your website\\\n",
        "▶ Remember to download the output file from the \"Files\" in the menu to the left."
      ],
      "metadata": {
        "id": "iqwwCyW4F0kW"
      }
    },
    {
      "cell_type": "code",
      "source": [
        "#@title Website url and output file\n",
        "#@markdown Anything you can get to within the page you specify, so you probably want your home page\n",
        "\n",
        "#import datetime will allow us to append the date to your file name\n",
        "from datetime import date\n",
        "today = date.today()\n",
        "\n",
        "site = 'https://www.google.com' #@param{type: 'string'}\n",
        "\n",
        "#@markdown overwrite will overwrite your output file if it exists.\n",
        "overwrite = True #@param {type:\"boolean\"}\n",
        "#@markdown ---\n",
        "#@markdown The following you can leave as is or specify a name.\\\n",
        "#@markdown  \\\n",
        "#@markdown * **default_file_name** - will look like urls_2024-01-27.txt and have today's date\n",
        "#@markdown * **descriptor_file_name** - will look like urls_google_2024-01-27.txt and include the date and your site's domain or subdomain\n",
        "site_descriptor = site.split(\".\")[1]\n",
        "default_file_name = 'urls_'+str(today)+\".txt\" #@param {type:\"raw\"}\n",
        "descriptor_file_name = 'urls_'+site_descriptor+str(today)+\".txt\" #@param {type:\"raw\"}\n",
        "output_file_name = descriptor_file_name # @param [\"urls.txt\", \"default_file_name\", \"descriptor_file_name\"] {type:\"raw\"}\n",
        "\n",
        "print(\"The following will change to your selection when you run the notebook:\")\n",
        "print(\"selected file name:\", output_file_name)"
      ],
      "metadata": {
        "colab": {
          "base_uri": "https://localhost:8080/"
        },
        "cellView": "form",
        "id": "u_XxtTq6H4UN",
        "outputId": "be0cc577-5b8f-4443-a1f3-b6ba158250cb"
      },
      "execution_count": null,
      "outputs": [
        {
          "output_type": "stream",
          "name": "stdout",
          "text": [
            "The following will change to your selection when you run the notebook:\n",
            "selected file name: urls_google2024-01-27.txt\n"
          ]
        }
      ]
    },
    {
      "cell_type": "markdown",
      "source": [
        "---\n",
        "# Below this is set, but you can look at the outputs for information."
      ],
      "metadata": {
        "id": "lqCOixh8I7zC"
      }
    },
    {
      "cell_type": "code",
      "execution_count": null,
      "metadata": {
        "cellView": "form",
        "id": "9gPkuo6kFuXK"
      },
      "outputs": [],
      "source": [
        "#@title import packages\n",
        "from bs4 import BeautifulSoup\n",
        "import requests\n"
      ]
    },
    {
      "cell_type": "code",
      "source": [
        "#@title define methods\n",
        "def response_message(response):\n",
        "    code = response.status_code\n",
        "    if code == 200:\n",
        "        print(code, \": Response OK\")\n",
        "    elif code == 403:\n",
        "        print(code, \": Forbidden - crawling is likely not allowed on this domain.\")\n",
        "    elif code == 301:\n",
        "        print(code, \": Moved permanently - the page has been moved.\")\n",
        "    elif code == 401:\n",
        "        print(code, \": Unauthorized - you may need to log in or provide credentials for this page.\")\n",
        "    elif code == 404:\n",
        "       print(code, \": Not found - the server can't find this page, may be gone or 'unpublished'.\")\n",
        "    elif code == 500:\n",
        "       print (code, \": Internal server error - generic error message. Something unexpected may have happened. You should be able to try again soon.\")\n",
        "    else:\n",
        "        print(\"Some other code:\", code)\n",
        "\n",
        "def scrape(site):\n",
        "    r = requests.get(site)\n",
        "    response_message(r)\n",
        "    s = BeautifulSoup(r.text,\"html.parser\")\n",
        "    urls=[]\n",
        "    stubs=[]\n",
        "    for i in s.find_all(\"a\"):\n",
        "        try:\n",
        "          href = i.attrs['href'].strip()\n",
        "        except Exception as e:\n",
        "          print(\"Exception\", e, \". Ignoring a tag that's not a link:\", i)\n",
        "        if href.startswith(\"/\"):\n",
        "            if href not in stubs:\n",
        "                stubs.append(href)\n",
        "        else:\n",
        "            if href not in urls:\n",
        "                urls.append(href)\n",
        "\n",
        "    return stubs, urls\n"
      ],
      "metadata": {
        "cellView": "form",
        "id": "zS6Ed6LGHt-T"
      },
      "execution_count": null,
      "outputs": []
    },
    {
      "cell_type": "code",
      "source": [
        "#@title get all the links\n",
        "stubs, urls = scrape(site)"
      ],
      "metadata": {
        "colab": {
          "base_uri": "https://localhost:8080/"
        },
        "cellView": "form",
        "id": "8B5GA1beJBuH",
        "outputId": "421530e4-24ef-4e7a-95c6-6292b710c316"
      },
      "execution_count": null,
      "outputs": [
        {
          "output_type": "stream",
          "name": "stdout",
          "text": [
            "200 : Response OK\n"
          ]
        }
      ]
    },
    {
      "cell_type": "code",
      "source": [
        "#@title write links to a file\n",
        "mode = 'w' if overwrite else 'a'\n",
        "\n",
        "with open(output_file_name, mode) as f:\n",
        "    for s in stubs:\n",
        "        f.write(str(s) + \"\\n\")\n",
        "    for u in urls:\n",
        "        f.write(str(u) + \"\\n\")\n"
      ],
      "metadata": {
        "cellView": "form",
        "id": "RWf_gXUtJX-E"
      },
      "execution_count": null,
      "outputs": []
    },
    {
      "cell_type": "code",
      "source": [
        "#@title read file\n",
        "#@markdown If you don't see a list of urls printed below, there may have been an error, check the code displayed in \"get all the links.\"\n",
        "with open(output_file_name, 'r') as f:\n",
        "  lines = f.readlines()\n",
        "  for line in lines:\n",
        "    print(line.strip())"
      ],
      "metadata": {
        "colab": {
          "base_uri": "https://localhost:8080/"
        },
        "cellView": "form",
        "id": "PSRWt06Ka1Rg",
        "outputId": "5659d5d5-641e-475c-9d6f-98c916c96a32"
      },
      "execution_count": null,
      "outputs": [
        {
          "output_type": "stream",
          "name": "stdout",
          "text": [
            "/preferences?hl=en\n",
            "/advanced_search?hl=en&authuser=0\n",
            "/intl/en/ads/\n",
            "/services/\n",
            "/intl/en/about.html\n",
            "/intl/en/policies/privacy/\n",
            "/intl/en/policies/terms/\n",
            "https://www.google.com/imghp?hl=en&tab=wi\n",
            "https://maps.google.com/maps?hl=en&tab=wl\n",
            "https://play.google.com/?hl=en&tab=w8\n",
            "https://www.youtube.com/?tab=w1\n",
            "https://news.google.com/?tab=wn\n",
            "https://mail.google.com/mail/?tab=wm\n",
            "https://drive.google.com/?tab=wo\n",
            "https://www.google.com/intl/en/about/products?tab=wh\n",
            "http://www.google.com/history/optout?hl=en\n",
            "https://accounts.google.com/ServiceLogin?hl=en&passive=true&continue=https://www.google.com/&ec=GAZAAQ\n"
          ]
        }
      ]
    }
  ]
}
